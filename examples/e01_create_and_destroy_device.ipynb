{
 "cells": [
  {
   "cell_type": "markdown",
   "source": [
    "# Create and Destroy Device\n",
    "\n",
    "__Device creation, vector operation and torch interop, destroying device__\n",
    "\n",
    "Vulky is a python facade to vulkan with reduced and simpler interface focused primarly to academic purposes. Objects are designed to represent graphics pipelines and techniques in a more compact way."
   ],
   "metadata": {
    "collapsed": false
   },
   "id": "ce5983b7bb1a17bb"
  },
  {
   "cell_type": "code",
   "execution_count": 1,
   "outputs": [
    {
     "name": "stdout",
     "output_type": "stream",
     "text": [
      "Executing locally\n"
     ]
    }
   ],
   "source": [
    "try: # install all dependencies in colab \n",
    "    import google.colab\n",
    "    !sudo apt-get update -y\n",
    "    !sudo apt-get install -y libnvidia-gl-555 vulkan-tools glslang-tools vulkan-validationlayers-dev\n",
    "    !pip install pyav==13.1.0\n",
    "    !pip install git+https://github.com/rendervous/vulky_project.git\n",
    "except:\n",
    "    print(\"Executing locally\")"
   ],
   "metadata": {
    "collapsed": false,
    "ExecuteTime": {
     "end_time": "2025-01-31T08:46:03.819398200Z",
     "start_time": "2025-01-31T08:46:03.819398200Z"
    }
   },
   "id": "3b9edf834b3a2e4d"
  },
  {
   "cell_type": "markdown",
   "source": [
    "Let's start importing the module ```vulky```\n"
   ],
   "metadata": {
    "collapsed": false
   },
   "id": "237dae07093fb7c8"
  },
  {
   "cell_type": "code",
   "execution_count": 2,
   "outputs": [],
   "source": [
    "import vulky as vk"
   ],
   "metadata": {
    "collapsed": false,
    "ExecuteTime": {
     "end_time": "2025-01-31T08:46:10.430854500Z",
     "start_time": "2025-01-31T08:46:06.620123700Z"
    }
   },
   "id": "62c771f637121d64"
  },
  {
   "cell_type": "markdown",
   "source": [
    "Apart from rendering, vulky has objects to operate with vectors and matrices wrapping internally a torch tensor. This facilitates the interpretation of torch tensors as 3D objects and preserves differentiability when possible. This types also serves to declare equivalent vulkan shader types (```vec2```,...,```vec4```, ```mat2```, ..., ```mat4x3```, ```mat4```) "
   ],
   "metadata": {
    "collapsed": false
   },
   "id": "a29d4443ab4d60ff"
  },
  {
   "cell_type": "code",
   "execution_count": 3,
   "outputs": [
    {
     "name": "stdout",
     "output_type": "stream",
     "text": [
      "vec3([1.2676e-06, 1.0000e+00, 0.0000e+00])\n"
     ]
    }
   ],
   "source": [
    "a = vk.vec3(1., 0., .0)\n",
    "b = vk.mat3.rotation(vk.vec3(0., 0.0, 1.0), 3.14159/2)\n",
    "t = b@a\n",
    "print(t)"
   ],
   "metadata": {
    "collapsed": false,
    "ExecuteTime": {
     "end_time": "2025-01-31T08:46:15.359354700Z",
     "start_time": "2025-01-31T08:46:15.262838200Z"
    }
   },
   "id": "1209b4f0bb295e0"
  },
  {
   "cell_type": "markdown",
   "source": [
    "This vector and matrices types works also in batches. For instance, if you want to refer to a bidirectional array of (16,16) ```vec4``` you may use:"
   ],
   "metadata": {
    "collapsed": false
   },
   "id": "8898e45cfdb30277"
  },
  {
   "cell_type": "code",
   "execution_count": 4,
   "outputs": [
    {
     "name": "stdout",
     "output_type": "stream",
     "text": [
      "vec4([[[0., 0., 0., 0.],\n",
      "         [0., 0., 0., 0.],\n",
      "         [0., 0., 0., 0.],\n",
      "         ...,\n",
      "         [0., 0., 0., 0.],\n",
      "         [0., 0., 0., 0.],\n",
      "         [0., 0., 0., 0.]],\n",
      "\n",
      "        [[0., 0., 0., 0.],\n",
      "         [0., 0., 0., 0.],\n",
      "         [0., 0., 0., 0.],\n",
      "         ...,\n",
      "         [0., 0., 0., 0.],\n",
      "         [0., 0., 0., 0.],\n",
      "         [0., 0., 0., 0.]],\n",
      "\n",
      "        [[0., 0., 0., 0.],\n",
      "         [0., 0., 0., 0.],\n",
      "         [0., 0., 0., 0.],\n",
      "         ...,\n",
      "         [0., 0., 0., 0.],\n",
      "         [0., 0., 0., 0.],\n",
      "         [0., 0., 0., 0.]],\n",
      "\n",
      "        ...,\n",
      "\n",
      "        [[0., 0., 0., 0.],\n",
      "         [0., 0., 0., 0.],\n",
      "         [0., 0., 0., 0.],\n",
      "         ...,\n",
      "         [0., 0., 0., 0.],\n",
      "         [0., 0., 0., 0.],\n",
      "         [0., 0., 0., 0.]],\n",
      "\n",
      "        [[0., 0., 0., 0.],\n",
      "         [0., 0., 0., 0.],\n",
      "         [0., 0., 0., 0.],\n",
      "         ...,\n",
      "         [0., 0., 0., 0.],\n",
      "         [0., 0., 0., 0.],\n",
      "         [0., 0., 0., 0.]],\n",
      "\n",
      "        [[0., 0., 0., 0.],\n",
      "         [0., 0., 0., 0.],\n",
      "         [0., 0., 0., 0.],\n",
      "         ...,\n",
      "         [0., 0., 0., 0.],\n",
      "         [0., 0., 0., 0.],\n",
      "         [0., 0., 0., 0.]]])\n"
     ]
    }
   ],
   "source": [
    "t = vk.vec4.zero(16, 16)\n",
    "print(t)"
   ],
   "metadata": {
    "collapsed": false,
    "ExecuteTime": {
     "end_time": "2025-01-31T08:46:18.512759300Z",
     "start_time": "2025-01-31T08:46:18.504759700Z"
    }
   },
   "id": "3da100f36dce6da4"
  },
  {
   "cell_type": "markdown",
   "source": [
    "Important observation is that indexing vectors and matrices refers to the component of the vector, not the instance of the batch, i.e.: "
   ],
   "metadata": {
    "collapsed": false
   },
   "id": "b295fc9e70410122"
  },
  {
   "cell_type": "code",
   "execution_count": 5,
   "outputs": [
    {
     "name": "stdout",
     "output_type": "stream",
     "text": [
      "vec4([[[1., 2., 0., 0.],\n",
      "         [1., 2., 0., 0.],\n",
      "         [1., 2., 0., 0.],\n",
      "         ...,\n",
      "         [1., 2., 0., 0.],\n",
      "         [1., 2., 0., 0.],\n",
      "         [1., 2., 0., 0.]],\n",
      "\n",
      "        [[1., 2., 0., 0.],\n",
      "         [1., 2., 0., 0.],\n",
      "         [1., 2., 0., 0.],\n",
      "         ...,\n",
      "         [1., 2., 0., 0.],\n",
      "         [1., 2., 0., 0.],\n",
      "         [1., 2., 0., 0.]],\n",
      "\n",
      "        [[1., 2., 0., 0.],\n",
      "         [1., 2., 0., 0.],\n",
      "         [1., 2., 0., 0.],\n",
      "         ...,\n",
      "         [1., 2., 0., 0.],\n",
      "         [1., 2., 0., 0.],\n",
      "         [1., 2., 0., 0.]],\n",
      "\n",
      "        ...,\n",
      "\n",
      "        [[1., 2., 0., 0.],\n",
      "         [1., 2., 0., 0.],\n",
      "         [1., 2., 0., 0.],\n",
      "         ...,\n",
      "         [1., 2., 0., 0.],\n",
      "         [1., 2., 0., 0.],\n",
      "         [1., 2., 0., 0.]],\n",
      "\n",
      "        [[1., 2., 0., 0.],\n",
      "         [1., 2., 0., 0.],\n",
      "         [1., 2., 0., 0.],\n",
      "         ...,\n",
      "         [1., 2., 0., 0.],\n",
      "         [1., 2., 0., 0.],\n",
      "         [1., 2., 0., 0.]],\n",
      "\n",
      "        [[1., 2., 0., 0.],\n",
      "         [1., 2., 0., 0.],\n",
      "         [1., 2., 0., 0.],\n",
      "         ...,\n",
      "         [1., 2., 0., 0.],\n",
      "         [1., 2., 0., 0.],\n",
      "         [1., 2., 0., 0.]]])\n"
     ]
    }
   ],
   "source": [
    "t[0] = 1.0  # first component of all (16,16) vec4 where set to 1.0\n",
    "t.y = 2.0  # equivalent to index, a named access to the field is also valid and refers to whole the batch\n",
    "print(t)  "
   ],
   "metadata": {
    "collapsed": false,
    "ExecuteTime": {
     "end_time": "2025-01-31T08:46:21.164184300Z",
     "start_time": "2025-01-31T08:46:21.154184600Z"
    }
   },
   "id": "9f74c359d7098f54"
  },
  {
   "cell_type": "markdown",
   "source": [
    "For graphics, internally, vulky works with one single vulkan instance at the time but might work with several devices. There is a concept of active device and most of the methods of vulky library refers implicitly to that device. The active device can be selected with the ```device_manager``` method passing the device object. By default, the creation of a device, makes that device the active one. Notice, it is not a problem not to save the device if there is no intention to switch between devices in a future."
   ],
   "metadata": {
    "collapsed": false
   },
   "id": "8ae4b87fad8e133a"
  },
  {
   "cell_type": "code",
   "execution_count": 6,
   "outputs": [
    {
     "name": "stdout",
     "output_type": "stream",
     "text": [
      "[INFO] Debug instance created...\n",
      "[PRINT] loader_add_implicit_layer: Disabling implicit layer VK_LAYER_MESA_device_select for using an old API version 1.2 versus application requested 1.3\n",
      "[PRINT] loader_validate_device_extensions: Device extension VK_EXT_shader_atomic_float not supported by selected physical device or enabled layers.\n",
      "[PRINT] vkCreateDevice: Failed to validate extensions in list\n"
     ]
    },
    {
     "ename": "VkErrorExtensionNotPresent",
     "evalue": "",
     "output_type": "error",
     "traceback": [
      "\u001B[0;31m---------------------------------------------------------------------------\u001B[0m",
      "\u001B[0;31mVkErrorExtensionNotPresent\u001B[0m                Traceback (most recent call last)",
      "\u001B[0;32m/tmp/ipykernel_3528326/1153828921.py\u001B[0m in \u001B[0;36m?\u001B[0;34m()\u001B[0m\n\u001B[0;32m----> 1\u001B[0;31m \u001B[0mvk\u001B[0m\u001B[0;34m.\u001B[0m\u001B[0mcreate_device\u001B[0m\u001B[0;34m(\u001B[0m\u001B[0mdebug\u001B[0m\u001B[0;34m=\u001B[0m\u001B[0;32mTrue\u001B[0m\u001B[0;34m)\u001B[0m\u001B[0;34m\u001B[0m\u001B[0;34m\u001B[0m\u001B[0m\n\u001B[0m",
      "\u001B[0;32m~/rendervous.project/vulky_project/src/vulky/_rendering_internal.py\u001B[0m in \u001B[0;36m?\u001B[0;34m(device, debug, set_active)\u001B[0m\n\u001B[1;32m   2174\u001B[0m     \u001B[0mCreates\u001B[0m \u001B[0ma\u001B[0m \u001B[0mdevice\u001B[0m \u001B[0mmanager\u001B[0m\u001B[0;34m.\u001B[0m \u001B[0mThis\u001B[0m \u001B[0;32mis\u001B[0m \u001B[0mthe\u001B[0m \u001B[0mcore\u001B[0m \u001B[0mof\u001B[0m \u001B[0mvulkan\u001B[0m \u001B[0mgraphics\u001B[0m \u001B[0mcall\u001B[0m\u001B[0;34m.\u001B[0m\u001B[0;34m\u001B[0m\u001B[0;34m\u001B[0m\u001B[0m\n\u001B[1;32m   2175\u001B[0m     \u001B[0mThis\u001B[0m \u001B[0mmethod\u001B[0m \u001B[0mautomatically\u001B[0m \u001B[0msets\u001B[0m \u001B[0mcreated\u001B[0m \u001B[0mdevice\u001B[0m \u001B[0;32mas\u001B[0m \u001B[0mactive\u001B[0m\u001B[0;34m,\u001B[0m \u001B[0mfurther\u001B[0m \u001B[0mactions\u001B[0m \u001B[0mwill\u001B[0m \u001B[0muse\u001B[0m \u001B[0mit\u001B[0m\u001B[0;34m.\u001B[0m\u001B[0;34m\u001B[0m\u001B[0;34m\u001B[0m\u001B[0m\n\u001B[1;32m   2176\u001B[0m     \u001B[0mTo\u001B[0m \u001B[0mchange\u001B[0m \u001B[0mto\u001B[0m \u001B[0mother\u001B[0m \u001B[0mdevices\u001B[0m \u001B[0muse\u001B[0m \u001B[0mdevice\u001B[0m \u001B[0mmethod\u001B[0m\u001B[0;34m.\u001B[0m \u001B[0me\u001B[0m\u001B[0;34m.\u001B[0m\u001B[0mg\u001B[0m\u001B[0;34m:\u001B[0m \u001B[0mdevice_manager\u001B[0m\u001B[0;34m(\u001B[0m\u001B[0mother_device\u001B[0m\u001B[0;34m)\u001B[0m\u001B[0;34m\u001B[0m\u001B[0;34m\u001B[0m\u001B[0m\n\u001B[1;32m   2177\u001B[0m     \"\"\"\n\u001B[0;32m-> 2178\u001B[0;31m     state = _internal.DeviceWrapper(\n\u001B[0m\u001B[1;32m   2179\u001B[0m         \u001B[0mdevice_index\u001B[0m\u001B[0;34m=\u001B[0m\u001B[0mdevice\u001B[0m\u001B[0;34m,\u001B[0m\u001B[0;34m\u001B[0m\u001B[0;34m\u001B[0m\u001B[0m\n\u001B[1;32m   2180\u001B[0m         \u001B[0menable_validation_layers\u001B[0m\u001B[0;34m=\u001B[0m\u001B[0mdebug\u001B[0m\u001B[0;34m\u001B[0m\u001B[0;34m\u001B[0m\u001B[0m\n\u001B[1;32m   2181\u001B[0m     )\n",
      "\u001B[0;32m~/rendervous.project/vulky_project/src/vulky/_vulkan_internal.py\u001B[0m in \u001B[0;36m?\u001B[0;34m(self, device_index, enable_validation_layers)\u001B[0m\n\u001B[1;32m   2616\u001B[0m         \u001B[0mself\u001B[0m\u001B[0;34m.\u001B[0m\u001B[0m__load_vk_calls\u001B[0m\u001B[0;34m(\u001B[0m\u001B[0;34m)\u001B[0m\u001B[0;34m\u001B[0m\u001B[0;34m\u001B[0m\u001B[0m\n\u001B[1;32m   2617\u001B[0m         \u001B[0;32mif\u001B[0m \u001B[0menable_validation_layers\u001B[0m\u001B[0;34m:\u001B[0m\u001B[0;34m\u001B[0m\u001B[0;34m\u001B[0m\u001B[0m\n\u001B[1;32m   2618\u001B[0m             \u001B[0mself\u001B[0m\u001B[0;34m.\u001B[0m\u001B[0m__createDebugInstance\u001B[0m\u001B[0;34m(\u001B[0m\u001B[0;34m)\u001B[0m\u001B[0;34m\u001B[0m\u001B[0;34m\u001B[0m\u001B[0m\n\u001B[1;32m   2619\u001B[0m         \u001B[0mself\u001B[0m\u001B[0;34m.\u001B[0m\u001B[0m__createPhysicalDevice\u001B[0m\u001B[0;34m(\u001B[0m\u001B[0mdevice_index\u001B[0m\u001B[0;34m)\u001B[0m\u001B[0;34m\u001B[0m\u001B[0;34m\u001B[0m\u001B[0m\n\u001B[0;32m-> 2620\u001B[0;31m         \u001B[0mself\u001B[0m\u001B[0;34m.\u001B[0m\u001B[0m__createQueues\u001B[0m\u001B[0;34m(\u001B[0m\u001B[0;34m)\u001B[0m\u001B[0;34m\u001B[0m\u001B[0;34m\u001B[0m\u001B[0m\n\u001B[0m\u001B[1;32m   2621\u001B[0m         \u001B[0mself\u001B[0m\u001B[0;34m.\u001B[0m\u001B[0mmem_properties\u001B[0m \u001B[0;34m=\u001B[0m \u001B[0mvkGetPhysicalDeviceMemoryProperties\u001B[0m\u001B[0;34m(\u001B[0m\u001B[0mself\u001B[0m\u001B[0;34m.\u001B[0m\u001B[0m__physical_device\u001B[0m\u001B[0;34m)\u001B[0m\u001B[0;34m\u001B[0m\u001B[0;34m\u001B[0m\u001B[0m\n\u001B[1;32m   2622\u001B[0m         \u001B[0mself\u001B[0m\u001B[0;34m.\u001B[0m\u001B[0mmemory_manager\u001B[0m \u001B[0;34m=\u001B[0m \u001B[0mVulkanMemoryManager\u001B[0m\u001B[0;34m(\u001B[0m\u001B[0mself\u001B[0m\u001B[0;34m.\u001B[0m\u001B[0mvk_device\u001B[0m\u001B[0;34m,\u001B[0m \u001B[0mself\u001B[0m\u001B[0;34m.\u001B[0m\u001B[0m__physical_device\u001B[0m\u001B[0;34m)\u001B[0m\u001B[0;34m\u001B[0m\u001B[0;34m\u001B[0m\u001B[0m\n",
      "\u001B[0;32m~/rendervous.project/vulky_project/src/vulky/_vulkan_internal.py\u001B[0m in \u001B[0;36m?\u001B[0;34m(self)\u001B[0m\n\u001B[1;32m   2943\u001B[0m             \u001B[0mppEnabledLayerNames\u001B[0m\u001B[0;34m=\u001B[0m\u001B[0mself\u001B[0m\u001B[0;34m.\u001B[0m\u001B[0m__layers\u001B[0m\u001B[0;34m,\u001B[0m\u001B[0;34m\u001B[0m\u001B[0;34m\u001B[0m\u001B[0m\n\u001B[1;32m   2944\u001B[0m             \u001B[0;31m# enabledExtensionCount=len(extensions),\u001B[0m\u001B[0;34m\u001B[0m\u001B[0;34m\u001B[0m\u001B[0m\n\u001B[1;32m   2945\u001B[0m             \u001B[0mppEnabledExtensionNames\u001B[0m\u001B[0;34m=\u001B[0m\u001B[0mextensions\u001B[0m\u001B[0;34m\u001B[0m\u001B[0;34m\u001B[0m\u001B[0m\n\u001B[1;32m   2946\u001B[0m         )\n\u001B[0;32m-> 2947\u001B[0;31m         \u001B[0mself\u001B[0m\u001B[0;34m.\u001B[0m\u001B[0mvk_device\u001B[0m \u001B[0;34m=\u001B[0m \u001B[0mvkCreateDevice\u001B[0m\u001B[0;34m(\u001B[0m\u001B[0mself\u001B[0m\u001B[0;34m.\u001B[0m\u001B[0m__physical_device\u001B[0m\u001B[0;34m,\u001B[0m \u001B[0mdevice_create\u001B[0m\u001B[0;34m,\u001B[0m \u001B[0;32mNone\u001B[0m\u001B[0;34m)\u001B[0m\u001B[0;34m\u001B[0m\u001B[0;34m\u001B[0m\u001B[0m\n\u001B[0m\u001B[1;32m   2948\u001B[0m \u001B[0;34m\u001B[0m\u001B[0m\n\u001B[1;32m   2949\u001B[0m         \u001B[0;31m# load calls\u001B[0m\u001B[0;34m\u001B[0m\u001B[0;34m\u001B[0m\u001B[0m\n\u001B[1;32m   2950\u001B[0m         \u001B[0mself\u001B[0m\u001B[0;34m.\u001B[0m\u001B[0mvkGetBufferDeviceAddress\u001B[0m \u001B[0;34m=\u001B[0m \u001B[0mvkGetDeviceProcAddr\u001B[0m\u001B[0;34m(\u001B[0m\u001B[0mself\u001B[0m\u001B[0;34m.\u001B[0m\u001B[0mvk_device\u001B[0m\u001B[0;34m,\u001B[0m \u001B[0;34m\"vkGetBufferDeviceAddressKHR\"\u001B[0m\u001B[0;34m)\u001B[0m\u001B[0;34m\u001B[0m\u001B[0;34m\u001B[0m\u001B[0m\n",
      "\u001B[0;32m~/rendervous.project/vulky_project/src/vulky/_vulkan.py\u001B[0m in \u001B[0;36m?\u001B[0;34m(physicalDevice, pCreateInfo, pAllocator, pDevice)\u001B[0m\n\u001B[1;32m   8379\u001B[0m         \u001B[0mcustom_return\u001B[0m \u001B[0;34m=\u001B[0m \u001B[0;32mFalse\u001B[0m\u001B[0;34m\u001B[0m\u001B[0;34m\u001B[0m\u001B[0m\n\u001B[1;32m   8380\u001B[0m \u001B[0;34m\u001B[0m\u001B[0m\n\u001B[1;32m   8381\u001B[0m     \u001B[0mresult\u001B[0m \u001B[0;34m=\u001B[0m \u001B[0m_callApi\u001B[0m\u001B[0;34m(\u001B[0m\u001B[0mlib\u001B[0m\u001B[0;34m.\u001B[0m\u001B[0mvkCreateDevice\u001B[0m\u001B[0;34m,\u001B[0m \u001B[0mphysicalDevice\u001B[0m\u001B[0;34m,\u001B[0m\u001B[0mpCreateInfo\u001B[0m\u001B[0;34m,\u001B[0m\u001B[0mpAllocator\u001B[0m\u001B[0;34m,\u001B[0m\u001B[0mpDevice\u001B[0m\u001B[0;34m)\u001B[0m\u001B[0;34m\u001B[0m\u001B[0;34m\u001B[0m\u001B[0m\n\u001B[1;32m   8382\u001B[0m     \u001B[0;32mif\u001B[0m \u001B[0mresult\u001B[0m \u001B[0;34m!=\u001B[0m \u001B[0mVK_SUCCESS\u001B[0m\u001B[0;34m:\u001B[0m\u001B[0;34m\u001B[0m\u001B[0;34m\u001B[0m\u001B[0m\n\u001B[0;32m-> 8383\u001B[0;31m         \u001B[0;32mraise\u001B[0m \u001B[0mexception_codes\u001B[0m\u001B[0;34m[\u001B[0m\u001B[0mresult\u001B[0m\u001B[0;34m]\u001B[0m\u001B[0;34m\u001B[0m\u001B[0;34m\u001B[0m\u001B[0m\n\u001B[0m\u001B[1;32m   8384\u001B[0m \u001B[0;34m\u001B[0m\u001B[0m\n\u001B[1;32m   8385\u001B[0m     \u001B[0;32mif\u001B[0m \u001B[0mcustom_return\u001B[0m\u001B[0;34m:\u001B[0m\u001B[0;34m\u001B[0m\u001B[0;34m\u001B[0m\u001B[0m\n\u001B[1;32m   8386\u001B[0m         \u001B[0;32mreturn\u001B[0m \u001B[0mpDevice\u001B[0m\u001B[0;34m\u001B[0m\u001B[0;34m\u001B[0m\u001B[0m\n",
      "\u001B[0;31mVkErrorExtensionNotPresent\u001B[0m: "
     ]
    }
   ],
   "source": [
    "vk.create_device(debug=True)"
   ],
   "metadata": {
    "collapsed": false,
    "ExecuteTime": {
     "end_time": "2025-01-31T08:46:28.951495Z",
     "start_time": "2025-01-31T08:46:28.454363300Z"
    }
   },
   "id": "3ada4dddfdd5739d"
  },
  {
   "cell_type": "markdown",
   "source": [
    "Vulky manages automatically two types of memory, the memory compatible with the host (CPU) and the memory purely in the graphic device (GPU). If cuda is present, the device memory is exported to cuda and Pytorch library, making the creation of tensors managed by vulkan simpler. "
   ],
   "metadata": {
    "collapsed": false
   },
   "id": "1b039c0c80c25dc8"
  },
  {
   "cell_type": "code",
   "execution_count": null,
   "outputs": [],
   "source": [
    "t = vk.tensor(2,4)\n",
    "print(t + 0.2)"
   ],
   "metadata": {
    "collapsed": false
   },
   "id": "51570ac9f30ddd79"
  },
  {
   "cell_type": "markdown",
   "source": [
    "Also, for the vector types the library provides different random generators based on torch."
   ],
   "metadata": {
    "collapsed": false
   },
   "id": "3d4432e9177d16cb"
  },
  {
   "cell_type": "code",
   "execution_count": null,
   "outputs": [],
   "source": [
    "a = vk.vec3.rand()  # U[0..1)\n",
    "b = vk.vec3.randn()  # N(0, I)\n",
    "c = vk.vec3.randd(1000)  # Uniform in hypersphere"
   ],
   "metadata": {
    "collapsed": false
   },
   "id": "476c2a6fdd035fd5"
  },
  {
   "cell_type": "code",
   "execution_count": null,
   "outputs": [],
   "source": [
    "import matplotlib.pyplot as plt\n",
    "fig = plt.figure(figsize=(3,3), dpi=200)\n",
    "ax = fig.add_subplot(projection='3d')\n",
    "ax.scatter(c.x, c.y, c.z)\n",
    "ax.axis('off')\n",
    "ax.set_box_aspect((1,1,1))\n",
    "fig.tight_layout(pad=0.0)\n",
    "fig.savefig('teaser1.jpg')\n",
    "plt.show()"
   ],
   "metadata": {
    "collapsed": false
   },
   "id": "3edd376fd2567577"
  },
  {
   "cell_type": "markdown",
   "source": [
    "Although vulky tensors can be operated as regular ```torch``` tensors, the memory is owned by vulky and they must be deleted before vulkan device is destroyed."
   ],
   "metadata": {
    "collapsed": false
   },
   "id": "c28aa0ccc7a8a471"
  },
  {
   "cell_type": "code",
   "execution_count": null,
   "outputs": [],
   "source": [
    "del t\n",
    "vk.quit()"
   ],
   "metadata": {
    "collapsed": false
   },
   "id": "1f66b76d5879cf59"
  },
  {
   "cell_type": "markdown",
   "source": [
    "In the rest of the notebooks we won't close explicitly the device, although it is automatically performed at exit, it is unpleasant when we want to repeat cell executions and the device is already destroyed."
   ],
   "metadata": {
    "collapsed": false
   },
   "id": "4e6e0a7779680dc7"
  }
 ],
 "metadata": {
  "kernelspec": {
   "display_name": "Python 3",
   "language": "python",
   "name": "python3"
  },
  "language_info": {
   "codemirror_mode": {
    "name": "ipython",
    "version": 2
   },
   "file_extension": ".py",
   "mimetype": "text/x-python",
   "name": "python",
   "nbconvert_exporter": "python",
   "pygments_lexer": "ipython2",
   "version": "2.7.6"
  }
 },
 "nbformat": 4,
 "nbformat_minor": 5
}
